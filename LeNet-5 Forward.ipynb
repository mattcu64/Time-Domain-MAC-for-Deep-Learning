{
 "cells": [
  {
   "cell_type": "code",
   "execution_count": 1,
   "metadata": {},
   "outputs": [],
   "source": [
    "import numpy as np\n",
    "import matplotlib.pyplot as plt\n",
    "%matplotlib inline"
   ]
  },
  {
   "cell_type": "code",
   "execution_count": 2,
   "metadata": {},
   "outputs": [
    {
     "data": {
      "text/plain": [
       "(28, 28)"
      ]
     },
     "execution_count": 2,
     "metadata": {},
     "output_type": "execute_result"
    }
   ],
   "source": [
    "# import image from 'image.txt'\n",
    "f = open(\"image.txt\")\n",
    "line = f.readline()\n",
    "data_list = []\n",
    "while line:\n",
    "    num = list(map(float,line.split()))\n",
    "    data_list.append(num)\n",
    "    line = f.readline()\n",
    "f.close()\n",
    "image = np.array(data_list)\n",
    "image.shape"
   ]
  },
  {
   "cell_type": "code",
   "execution_count": 3,
   "metadata": {},
   "outputs": [
    {
     "data": {
      "text/plain": [
       "<matplotlib.image.AxesImage at 0x10f026320>"
      ]
     },
     "execution_count": 3,
     "metadata": {},
     "output_type": "execute_result"
    },
    {
     "data": {
      "image/png": "[encoded data removed]",
      "text/plain": [
       "<Figure size 432x288 with 1 Axes>"
      ]
     },
     "metadata": {
      "needs_background": "light"
     },
     "output_type": "display_data"
    }
   ],
   "source": [
    "plt.imshow(image)"
   ]
  },
  {
   "cell_type": "code",
   "execution_count": 4,
   "metadata": {},
   "outputs": [],
   "source": [
    "import torch\n",
    "model_dict=torch.load('model')"
   ]
  },
  {
   "cell_type": "code",
   "execution_count": 5,
   "metadata": {},
   "outputs": [
    {
     "data": {
      "text/plain": [
       "(1, 28, 28)"
      ]
     },
     "execution_count": 5,
     "metadata": {},
     "output_type": "execute_result"
    }
   ],
   "source": [
    "# Normalization\n",
    "mean, std = image.mean(), image.std()\n",
    "norm_image = (image - mean) / std\n",
    "norm_image = norm_image.reshape(1,28,28)\n",
    "norm_image.shape"
   ]
  },
  {
   "cell_type": "code",
   "execution_count": 6,
   "metadata": {},
   "outputs": [],
   "source": [
    "# Convolutional Layer\n",
    "def conv(A_prev, W, b, pad):   \n",
    "    (n_C_prev, n_H_prev, n_W_prev) = A_prev.shape # Retrieve dimensions\n",
    "    (n_C, n_C_prev, n_f, n_f) = W.shape # Retrieve dimensions\n",
    "    n_H = int((n_H_prev - n_f + 2*pad))+1 # Compute kernel width\n",
    "    n_W =  int((n_W_prev - n_f + 2*pad))+1 # Compute kernel height\n",
    "    Z = np.zeros((n_C, n_H, n_W)) # Initialize output tensor with zeros\n",
    "    A_prev_pad = np.pad(A_prev,((0,0),(pad,pad),(pad,pad)),'constant')# Pad input activation maps\n",
    "\n",
    "    for h in range(n_H):               # height loop\n",
    "        for w in range(n_W):          # width loop\n",
    "            for c in range(n_C):       # channel (# of filter) loop\n",
    "                h_range = slice(h, h+n_f)\n",
    "                w_range = slice(w, w+n_f)\n",
    "                a_slice_prev = A_prev_pad[:, h_range, w_range] # slice of a_prev_pad\n",
    "                Z[c, h, w] = np.sum(a_slice_prev*W[c,:,:,:])+b[c]     \n",
    "\n",
    "    assert(Z.shape == (n_C, n_H, n_W))\n",
    "    return Z"
   ]
  },
  {
   "cell_type": "code",
   "execution_count": 7,
   "metadata": {},
   "outputs": [],
   "source": [
    "# ReLU\n",
    "def relu(A_prev):\n",
    "    (n_C_prev, n_H_prev, n_W_prev) = A_prev.shape\n",
    "    R = np.zeros((n_C_prev, n_H_prev, n_W_prev)) \n",
    "    R = np.where(A_prev >= 0, A_prev, 0)\n",
    "    assert(R.shape == (n_C_prev, n_H_prev, n_W_prev))\n",
    "    return R"
   ]
  },
  {
   "cell_type": "code",
   "execution_count": 8,
   "metadata": {},
   "outputs": [],
   "source": [
    "# Pooling layer forward propagation\n",
    "def maxpool(A_prev, n_f, stride):\n",
    "    (n_C_prev, n_H_prev, n_W_prev) = A_prev.shape # Retrieve dimensions\n",
    "    n_H = int(1 + (n_H_prev-n_f)/stride) # output dimensions\n",
    "    n_W =  int(1 + (n_W_prev-n_f)/stride)  # output dimensions\n",
    "    n_C = n_C_prev # output dimensions\n",
    "    A = np.zeros((n_C, n_H,n_W)) # init output           \n",
    "    \n",
    "    for h in range(n_H):              # height loop\n",
    "            for w in range(n_W):          # width loop\n",
    "                for c in range(n_C):      # channel loop\n",
    "                    h_range = slice(h*stride, h*stride+n_f)\n",
    "                    w_range = slice(w*stride, w*stride+n_f)\n",
    "                    a_prev_slice = A_prev[c, h_range, w_range] # c-th channel slice of i-th sample of A_prev\n",
    "                    A[c, h, w] = np.max(a_prev_slice)\n",
    "                    \n",
    "    assert(A.shape == (n_C, n_H, n_W))\n",
    "    return A"
   ]
  },
  {
   "cell_type": "code",
   "execution_count": 9,
   "metadata": {},
   "outputs": [],
   "source": [
    "# num_flat_features\n",
    "def num_flat_features(self, x):\n",
    "    size = x.size()[1:]\n",
    "    num_features = 1\n",
    "    for s in size:\n",
    "        num_features *= s\n",
    "    return num_features"
   ]
  },
  {
   "cell_type": "code",
   "execution_count": 19,
   "metadata": {},
   "outputs": [
    {
     "data": {
      "text/plain": [
       "(6, 28, 28)"
      ]
     },
     "execution_count": 19,
     "metadata": {},
     "output_type": "execute_result"
    }
   ],
   "source": [
    "# Convolutional Layer 1 \n",
    "w1 = model_dict['conv1.weight'].numpy()\n",
    "b1 = model_dict['conv1.bias'].numpy()\n",
    "Z1_conv = conv(norm_image, w1, b1, 2)\n",
    "Z1_conv.shape"
   ]
  },
  {
   "cell_type": "code",
   "execution_count": 20,
   "metadata": {},
   "outputs": [
    {
     "data": {
      "text/plain": [
       "(6, 28, 28)"
      ]
     },
     "execution_count": 20,
     "metadata": {},
     "output_type": "execute_result"
    }
   ],
   "source": [
    "#ReLu\n",
    "Z1_relu = relu(Z1_conv)\n",
    "Z1_relu.shape"
   ]
  },
  {
   "cell_type": "code",
   "execution_count": 21,
   "metadata": {},
   "outputs": [
    {
     "data": {
      "text/plain": [
       "(6, 14, 14)"
      ]
     },
     "execution_count": 21,
     "metadata": {},
     "output_type": "execute_result"
    }
   ],
   "source": [
    "# Max-pooling \n",
    "Z1_MP = maxpool(Z1_relu, 2, 2)\n",
    "Z1_MP.shape"
   ]
  },
  {
   "cell_type": "code",
   "execution_count": 22,
   "metadata": {},
   "outputs": [
    {
     "data": {
      "text/plain": [
       "(16, 10, 10)"
      ]
     },
     "execution_count": 22,
     "metadata": {},
     "output_type": "execute_result"
    }
   ],
   "source": [
    "# Convolutional Layer 2\n",
    "w2 = model_dict['conv2.weight'].numpy()\n",
    "b2 = model_dict['conv2.bias'].numpy()\n",
    "Z2_conv = conv(Z1_MP, w2, b2, 0)\n",
    "Z2_conv.shape"
   ]
  },
  {
   "cell_type": "code",
   "execution_count": 30,
   "metadata": {},
   "outputs": [
    {
     "data": {
      "text/plain": [
       "(16, 10, 10)"
      ]
     },
     "execution_count": 30,
     "metadata": {},
     "output_type": "execute_result"
    }
   ],
   "source": [
    "#ReLu\n",
    "Z2_relu = relu(Z2_conv)\n",
    "Z2_relu.shape"
   ]
  },
  {
   "cell_type": "code",
   "execution_count": 31,
   "metadata": {},
   "outputs": [
    {
     "data": {
      "text/plain": [
       "(16, 5, 5)"
      ]
     },
     "execution_count": 31,
     "metadata": {},
     "output_type": "execute_result"
    }
   ],
   "source": [
    "# Max-pooling \n",
    "Z2_MP = maxpool(Z2_relu, 2, 2)\n",
    "Z2_MP.shape"
   ]
  },
  {
   "cell_type": "code",
   "execution_count": 32,
   "metadata": {},
   "outputs": [
    {
     "data": {
      "text/plain": [
       "(120, 1, 1)"
      ]
     },
     "execution_count": 32,
     "metadata": {},
     "output_type": "execute_result"
    }
   ],
   "source": [
    "# Convolutional Layer 3\n",
    "w3 = model_dict['conv3.weight'].numpy()\n",
    "b3 = model_dict['conv3.bias'].numpy()\n",
    "Z3_conv = conv(Z2_MP, w3, b3, 0)\n",
    "Z3_conv.shape"
   ]
  },
  {
   "cell_type": "code",
   "execution_count": 124,
   "metadata": {},
   "outputs": [
    {
     "data": {
      "text/plain": [
       "(120, 1, 1)"
      ]
     },
     "execution_count": 124,
     "metadata": {},
     "output_type": "execute_result"
    }
   ],
   "source": [
    "#ReLU\n",
    "Z3_relu = relu(Z3_conv)\n",
    "Z3_relu.shape"
   ]
  },
  {
   "cell_type": "code",
   "execution_count": 144,
   "metadata": {},
   "outputs": [
    {
     "data": {
      "text/plain": [
       "(120,)"
      ]
     },
     "execution_count": 144,
     "metadata": {},
     "output_type": "execute_result"
    }
   ],
   "source": [
    "input_FC = Z3_relu.reshape(120)\n",
    "input_FC.shape"
   ]
  },
  {
   "cell_type": "code",
   "execution_count": 147,
   "metadata": {},
   "outputs": [
    {
     "data": {
      "text/plain": [
       "(84,)"
      ]
     },
     "execution_count": 147,
     "metadata": {},
     "output_type": "execute_result"
    }
   ],
   "source": [
    "# Fully Connection Layer 1 \n",
    "w4 = model_dict['fc1.weight'].numpy()\n",
    "b4 = model_dict['fc1.bias'].numpy()\n",
    "Z4 = input_FC @ w4.T + b4\n",
    "Z4.shape"
   ]
  },
  {
   "cell_type": "code",
   "execution_count": 150,
   "metadata": {},
   "outputs": [
    {
     "data": {
      "text/plain": [
       "(84,)"
      ]
     },
     "execution_count": 150,
     "metadata": {},
     "output_type": "execute_result"
    }
   ],
   "source": [
    "# ReLU\n",
    "Z4_relu = np.where(Z4 >= 0, Z4, 0)\n",
    "Z4_relu.shape"
   ]
  },
  {
   "cell_type": "code",
   "execution_count": 154,
   "metadata": {},
   "outputs": [
    {
     "data": {
      "text/plain": [
       "array([-5.61500208, -0.64210146, -2.47023386, -5.23282189, -0.35078947,\n",
       "       -6.80284897, -7.33438541,  8.95710866, -9.52891523, -5.31731692])"
      ]
     },
     "execution_count": 154,
     "metadata": {},
     "output_type": "execute_result"
    }
   ],
   "source": [
    "# Fully Connection Layer 2\n",
    "w5 = model_dict['fc2.weight'].numpy()\n",
    "b5 = model_dict['fc2.bias'].numpy()\n",
    "Z5 = Z4_relu @ w5.T + b5\n",
    "Z5.shape"
   ]
  },
  {
   "cell_type": "code",
   "execution_count": 158,
   "metadata": {},
   "outputs": [
    {
     "data": {
      "text/plain": [
       "7"
      ]
     },
     "execution_count": 158,
     "metadata": {},
     "output_type": "execute_result"
    }
   ],
   "source": [
    "Y = Z5.tolist().index(max(Z5))\n",
    "Y"
   ]
  },
  {
   "cell_type": "code",
   "execution_count": 162,
   "metadata": {},
   "outputs": [
    {
     "name": "stderr",
     "output_type": "stream",
     "text": [
      "/anaconda3/lib/python3.7/site-packages/ipykernel_launcher.py:11: DeprecationWarning: The binary mode of fromstring is deprecated, as it behaves surprisingly on unicode inputs. Use frombuffer instead\n",
      "  # This is added back by InteractiveShellApp.init_path()\n",
      "/anaconda3/lib/python3.7/site-packages/ipykernel_launcher.py:14: DeprecationWarning: The binary mode of fromstring is deprecated, as it behaves surprisingly on unicode inputs. Use frombuffer instead\n",
      "  \n"
     ]
    }
   ],
   "source": [
    "# Test\n",
    "import time\n",
    "start = time.time()\n",
    "\n",
    "# Download MNIST handwritten data from website: http://yann.lecun.com/exdb/mnist/\n",
    "# The data set including 60000 training data / 10000 testing data\n",
    "import sys\n",
    "import gzip, struct\n",
    "import numpy as np\n",
    "\n",
    "def read_data(image,label):\n",
    "    with gzip.open(label) as flbl:\n",
    "        magic, num = struct.unpack(\">II\", flbl.read(8))\n",
    "        label = np.fromstring(flbl.read(), dtype=np.int8)\n",
    "    with gzip.open(image, 'rb') as fimg:\n",
    "        magic, num, rows, cols = struct.unpack(\">IIII\", fimg.read(16))\n",
    "        image = np.fromstring(fimg.read(), dtype=np.uint8).reshape(len(label), rows, cols)\n",
    "    return image,label\n",
    "\n",
    "def get_data():\n",
    "    train_img,train_label = read_data('train-images-idx3-ubyte.gz', 'train-labels-idx1-ubyte.gz')\n",
    "    test_img,test_label = read_data('t10k-images-idx3-ubyte.gz', 't10k-labels-idx1-ubyte.gz')\n",
    "    return [train_img,train_label,test_img,test_label]\n",
    "\n",
    "def custom_normalization(data, std, mean):\n",
    "    return (data - mean) / std\n",
    "    \n",
    "# Get data and normalization\n",
    "X, y, Xt, yt = get_data()\n",
    "mean, std = X.mean(), X.std()\n",
    "X = custom_normalization(X, mean, std)\n",
    "Xt = custom_normalization(Xt, mean, std)"
   ]
  },
  {
   "cell_type": "code",
   "execution_count": 165,
   "metadata": {},
   "outputs": [
    {
     "name": "stdout",
     "output_type": "stream",
     "text": [
      "100\n",
      "9.42609691619873\n"
     ]
    }
   ],
   "source": [
    "# test\n",
    "correct = 0 \n",
    "w1 = model_dict['conv1.weight'].numpy()\n",
    "b1 = model_dict['conv1.bias'].numpy()\n",
    "w2 = model_dict['conv2.weight'].numpy()\n",
    "b2 = model_dict['conv2.bias'].numpy()\n",
    "w3 = model_dict['conv3.weight'].numpy()\n",
    "b3 = model_dict['conv3.bias'].numpy()\n",
    "w4 = model_dict['fc1.weight'].numpy()\n",
    "b4 = model_dict['fc1.bias'].numpy()\n",
    "w5 = model_dict['fc2.weight'].numpy()\n",
    "b5 = model_dict['fc2.bias'].numpy()\n",
    "\n",
    "import time\n",
    "start = time.time()\n",
    "for i in range(100):\n",
    "    image = Xt[i].reshape(1,28,28)\n",
    "    \n",
    "    Z1_conv = conv(image, w1, b1, 2)\n",
    "    Z1_relu = relu(Z1_conv)\n",
    "    Z1_MP = maxpool(Z1_relu, 2, 2)\n",
    "\n",
    "    Z2_conv = conv(Z1_MP, w2, b2, 0)\n",
    "    Z2_relu = relu(Z2_conv)\n",
    "    Z2_MP = maxpool(Z2_relu, 2, 2)\n",
    "\n",
    "    Z3_conv = conv(Z2_MP, w3, b3, 0)\n",
    "    Z3_relu = relu(Z3_conv)\n",
    "\n",
    "    input_FC = Z3_relu.reshape(120)\n",
    "\n",
    "    Z4 = input_FC @ w4.T + b4\n",
    "    Z4_relu = np.where(Z4 >= 0, Z4, 0)\n",
    "\n",
    "    Z5 = Z4_relu @ w5.T + b5\n",
    "    Y = Z5.tolist().index(max(Z5))\n",
    "    \n",
    "    if Y == yt[i]:\n",
    "        correct += 1 \n",
    "print(correct)\n",
    "\n",
    "end = time.time()\n",
    "print (end-start)"
   ]
  },
  {
   "cell_type": "code",
   "execution_count": null,
   "metadata": {},
   "outputs": [],
   "source": []
  }
 ],
 "metadata": {
  "kernelspec": {
   "display_name": "Python 3",
   "language": "python",
   "name": "python3"
  },
  "language_info": {
   "codemirror_mode": {
    "name": "ipython",
    "version": 3
   },
   "file_extension": ".py",
   "mimetype": "text/x-python",
   "name": "python",
   "nbconvert_exporter": "python",
   "pygments_lexer": "ipython3",
   "version": "3.7.1"
  }
 },
 "nbformat": 4,
 "nbformat_minor": 2
}
